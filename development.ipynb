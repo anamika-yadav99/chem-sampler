{
 "cells": [
  {
   "cell_type": "code",
   "execution_count": 3,
   "metadata": {},
   "outputs": [
    {
     "name": "stdout",
     "output_type": "stream",
     "text": [
      "https://www.ebi.ac.uk/chembl/api/data/similarity/CCCCOCCCC/40?format=json\n"
     ]
    },
    {
     "data": {
      "text/plain": [
       "['CCCCCCCCOCCCN',\n",
       " 'CCCCOCCOCCO',\n",
       " 'CCCCOCCOCCOCCOCCO',\n",
       " 'CCCOCCC',\n",
       " 'CCCCCCCCCCCCCCCCOCCCN',\n",
       " 'CCCCCCCCCCCCCCOCCN',\n",
       " 'CCCCOCCCC',\n",
       " 'CCCCOCC',\n",
       " 'CCCCCCOCCO',\n",
       " 'CCCCCCCCCCCCCCOCCCN',\n",
       " 'CCCCOCCOP(=O)(OCCOCCCC)OCCOCCCC',\n",
       " 'CCCCCCCCCCCCCCCCCCOCCO',\n",
       " 'CCCCOCCOCCOCCO',\n",
       " 'CCCCCCCCCCCCCCCCOCCN',\n",
       " 'CCCCOCCO',\n",
       " 'CCCCOCCOCCOCCCC',\n",
       " 'CCCCCCCCCCCCOCCO',\n",
       " 'CCCCOCC(O)COCCCC',\n",
       " 'CCCCCCCCCCCCOCCCN',\n",
       " 'CCCCCCCCCCCCOCCN']"
      ]
     },
     "execution_count": 3,
     "metadata": {},
     "output_type": "execute_result"
    }
   ],
   "source": [
    "from chemsampler.samplers.chembl.sampler import ChemblSampler\n",
    "smp = ChemblSampler()\n",
    "smp._sample(\"CCCCOCCCC\")"
   ]
  },
  {
   "cell_type": "code",
   "execution_count": 5,
   "metadata": {},
   "outputs": [],
   "source": [
    "import standardiser"
   ]
  }
 ],
 "metadata": {
  "kernelspec": {
   "display_name": "Python 3.7.12 ('chemsampler')",
   "language": "python",
   "name": "python3"
  },
  "language_info": {
   "codemirror_mode": {
    "name": "ipython",
    "version": 3
   },
   "file_extension": ".py",
   "mimetype": "text/x-python",
   "name": "python",
   "nbconvert_exporter": "python",
   "pygments_lexer": "ipython3",
   "version": "3.7.12"
  },
  "orig_nbformat": 4,
  "vscode": {
   "interpreter": {
    "hash": "05e9f8ded7778d4f312f0b31051aba959a73629d2774bb51afd5c0dbfbfe0545"
   }
  }
 },
 "nbformat": 4,
 "nbformat_minor": 2
}
