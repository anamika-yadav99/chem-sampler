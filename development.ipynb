{
 "cells": [
  {
   "cell_type": "code",
   "execution_count": 2,
   "metadata": {},
   "outputs": [
    {
     "name": "stdout",
     "output_type": "stream",
     "text": [
      "<class 'chemsampler.samplers.stoned.sampler.StonedSampler'>\n",
      "StonedSampler\n"
     ]
    },
    {
     "name": "stderr",
     "output_type": "stream",
     "text": [
      "100%|██████████| 1/1 [00:00<00:00,  7.90it/s]\n",
      "100%|██████████| 12/12 [00:00<00:00, 18282.47it/s]\n",
      "100%|██████████| 8/8 [00:00<00:00, 17.46it/s]\n",
      "100%|██████████| 59/59 [00:00<00:00, 22839.31it/s]\n",
      "100%|██████████| 25/25 [00:01<00:00, 18.62it/s]\n",
      "100%|██████████| 167/167 [00:00<00:00, 22967.79it/s]\n",
      "100%|██████████| 59/59 [00:03<00:00, 17.68it/s]\n",
      "100%|██████████| 418/418 [00:00<00:00, 22575.28it/s]\n",
      "100%|██████████| 134/134 [00:07<00:00, 18.43it/s]\n",
      "100%|██████████| 928/928 [00:00<00:00, 20869.65it/s]\n",
      " 25%|██▌       | 64/251 [00:03<00:10, 17.86it/s]\n",
      "100%|██████████| 495/495 [00:00<00:00, 24380.91it/s]\n",
      "100%|██████████| 317/317 [00:00<00:00, 18193.43it/s]\n"
     ]
    },
    {
     "name": "stdout",
     "output_type": "stream",
     "text": [
      "100\n",
      "<class 'chemsampler.samplers.chembl.sampler.ChemblSampler'>\n",
      "ChemblSampler\n"
     ]
    },
    {
     "name": "stderr",
     "output_type": "stream",
     "text": [
      "100%|██████████| 1/1 [00:00<00:00,  1.50it/s]\n"
     ]
    },
    {
     "name": "stdout",
     "output_type": "stream",
     "text": [
      "118\n",
      "<class 'chemsampler.samplers.chembl.sampler.ChemblSampler'>\n",
      "ChemblSampler\n"
     ]
    },
    {
     "name": "stderr",
     "output_type": "stream",
     "text": [
      "100%|██████████| 1/1 [00:10<00:00, 10.19s/it]\n"
     ]
    },
    {
     "name": "stdout",
     "output_type": "stream",
     "text": [
      "ChEMBL seems to be down right now\n",
      "118\n",
      "<class 'chemsampler.samplers.stoned.sampler.StonedSampler'>\n",
      "StonedSampler\n"
     ]
    },
    {
     "name": "stderr",
     "output_type": "stream",
     "text": [
      "100%|██████████| 1/1 [00:00<00:00,  7.34it/s]\n",
      "100%|██████████| 18/18 [00:00<00:00, 16097.54it/s]\n",
      "100%|██████████| 11/11 [00:00<00:00, 17.19it/s]\n",
      "100%|██████████| 108/108 [00:00<00:00, 20660.65it/s]\n",
      "100%|██████████| 43/43 [00:02<00:00, 18.01it/s]\n",
      "100%|██████████| 326/326 [00:00<00:00, 24882.05it/s]\n",
      "100%|██████████| 114/114 [00:06<00:00, 18.26it/s]\n",
      "100%|██████████| 837/837 [00:00<00:00, 23514.58it/s]\n",
      " 49%|████▉     | 121/245 [00:06<00:06, 17.97it/s]\n",
      "100%|██████████| 897/897 [00:00<00:00, 23338.40it/s]\n",
      "100%|██████████| 328/328 [00:00<00:00, 19016.53it/s]\n"
     ]
    },
    {
     "name": "stdout",
     "output_type": "stream",
     "text": [
      "155\n",
      "<class 'chemsampler.samplers.stoned.sampler.StonedSampler'>\n",
      "StonedSampler\n"
     ]
    },
    {
     "name": "stderr",
     "output_type": "stream",
     "text": [
      "100%|██████████| 1/1 [00:00<00:00,  7.43it/s]\n",
      "100%|██████████| 18/18 [00:00<00:00, 16807.10it/s]\n",
      "100%|██████████| 11/11 [00:00<00:00, 17.86it/s]\n",
      "100%|██████████| 107/107 [00:00<00:00, 13069.79it/s]\n",
      "100%|██████████| 46/46 [00:02<00:00, 17.81it/s]\n",
      "100%|██████████| 393/393 [00:00<00:00, 23500.35it/s]\n",
      "100%|██████████| 118/118 [00:06<00:00, 17.78it/s]\n",
      "100%|██████████| 963/963 [00:00<00:00, 23870.00it/s]\n",
      " 40%|████      | 111/277 [00:06<00:09, 18.05it/s]\n",
      "100%|██████████| 972/972 [00:00<00:00, 22513.91it/s]\n",
      "100%|██████████| 395/395 [00:00<00:00, 20254.91it/s]\n"
     ]
    },
    {
     "name": "stdout",
     "output_type": "stream",
     "text": [
      "189\n"
     ]
    },
    {
     "data": {
      "text/plain": [
       "['CCCCCOCCCCOC',\n",
       " 'CCCCOCCCCCSC',\n",
       " 'CCCCOCCCCCCBr',\n",
       " 'CCCCCCOCC',\n",
       " 'CCCCOCCCCCOCO',\n",
       " 'CCCCCCCOCCl',\n",
       " 'CCCCOCCO',\n",
       " 'CCCCOCCCCCl',\n",
       " 'CCCCCOCN',\n",
       " 'CCCCOCCCN',\n",
       " 'CCCCCCOCCCS',\n",
       " 'CCCCCCOCI',\n",
       " 'CCCCCOCCCCOF',\n",
       " 'CCCCCOCCS',\n",
       " 'CCCCCOCCF',\n",
       " 'CCCCCOCCCCS',\n",
       " 'CCCCCCCCOCN',\n",
       " 'CCCCOCCCCO',\n",
       " 'CCCCOCCOC',\n",
       " 'CCCCCCOCS',\n",
       " '[C-]#[N+]CCOCCCCCCC',\n",
       " 'CCCCOCCCCCBr',\n",
       " 'CCCCCCCCCCCCCCCCOCCOCCOCCOCCOCCOCCOCCOCCOCCOCCOCCOCCOCCOCCOCCOCCOCCOCCOCCOCCO',\n",
       " 'CCCCCCCCCCCCCCCCOCCN',\n",
       " 'CCCCCCCOCF',\n",
       " 'CCCCCCCCOCCN',\n",
       " 'CCCCCCCCOCCS',\n",
       " 'CCCCCCCOCCF',\n",
       " 'CCCCCCCCCCCCOCCCN',\n",
       " 'CCCCCCOCCO',\n",
       " 'CCCCOCCCO',\n",
       " 'CCCCCCCCCOCO',\n",
       " 'CCCCCCCCCCCOCCOCCOCCOCCOCCO',\n",
       " 'CCCCCOCBr',\n",
       " 'CCCCCCCOCCCSC',\n",
       " 'CCCCCCCOCC',\n",
       " 'CCCCCCCCOCCC',\n",
       " 'CCCCCCOCN',\n",
       " 'CCCCOCCCOC',\n",
       " 'CCCCCCCOCS',\n",
       " 'CCCCOCCCCS',\n",
       " 'CCCCOCCN',\n",
       " 'CCCCCOCCCCCSO',\n",
       " 'CCCCCCCCCCCCOCCOCCOCCO',\n",
       " 'CCCCCCCOCCOC',\n",
       " 'CCCCCCOCCCBr',\n",
       " 'CCCCOCCCCN',\n",
       " 'CCCCCOCCCCCO',\n",
       " 'CCCCCCCCCOCS',\n",
       " 'CCCCCCCCCCCCOCCN',\n",
       " 'CCCCCCCCCCCCCCCCCCOCCO',\n",
       " 'CCCCCCCCCCCCOCCOCCOCCOCCOCCOCCO',\n",
       " 'CCCCOCCCOCCC',\n",
       " 'CCCCOCCOCCCC',\n",
       " 'CCCCOCCCCCOBr',\n",
       " 'CCCCCOCCCOCO',\n",
       " 'CCCCOCCC',\n",
       " 'CCCCCOCCN',\n",
       " 'CCCCCOCCBr',\n",
       " 'C=CCCOCCCCCCC',\n",
       " 'CCCCCOCCCCCC=O',\n",
       " 'CCCCCOCS',\n",
       " 'CCCCCCCCCCCCOCCOCCOCCOCCOCCOCCOCCOCCOCCOCCO',\n",
       " 'CCCCCOCCCCCCOS',\n",
       " 'CCCCOCCOCC',\n",
       " 'CCCCCCCCCCCCCCOCCCN',\n",
       " 'CCCCCOCCCCN',\n",
       " 'CCCCOCCCCCF',\n",
       " 'CCCCOCCCCCSO',\n",
       " 'C#CCCOCCCCCC',\n",
       " 'CCCCCOCCON',\n",
       " 'CCCCCOCCCCOCC',\n",
       " 'CCCOCCCCOCCC',\n",
       " 'CCCCCOCCCCCS',\n",
       " 'CCCCCOCCI',\n",
       " 'CCCCCCCOCN',\n",
       " 'CCCCCCCOCCCl',\n",
       " 'CCCCCCCOCCNC',\n",
       " 'CCCCOCCCCl',\n",
       " 'CCCCCCOCOC',\n",
       " 'CCCCCOCCCCO',\n",
       " 'CCCCOCCCCCCS',\n",
       " 'CCCCOCCCCBr',\n",
       " 'CCCCCCOCCBr',\n",
       " 'CCCCCOCCCO',\n",
       " 'CCCCCOCCCl',\n",
       " 'BCCOCCCCCC',\n",
       " 'CCCCOCCCCCON',\n",
       " 'CCCCCCOCO',\n",
       " 'CCCCCCCOCO',\n",
       " 'CCCCCCOCCS',\n",
       " 'CCCCCCCOCCSC',\n",
       " 'CCCCCOCCCCON',\n",
       " 'BCCCCCOCCCC',\n",
       " 'CCCCCCCOCCCS',\n",
       " 'CCCCCOCCCCl',\n",
       " 'CCCCCOCCCCCCl',\n",
       " 'CCCCCOCCCCCOCN',\n",
       " 'CCCOCCCCCOCC',\n",
       " 'CCCCCCCCCCCCCCCOCCOCCOCCOCCOCCOCCOCCOCCOCCOCCOCCOCCOCCOCCOCCOCCOCCOCCOCCOCCOCCOCCOCCO',\n",
       " 'CCCCCOCCCOC',\n",
       " 'CCCCOCCS',\n",
       " 'CCCCCCCCCCCCCCOCCN',\n",
       " 'CCCCOCCOCCC',\n",
       " 'CCCCCCOCCCl',\n",
       " 'CCCOCCCCCCOCC',\n",
       " 'CCCCCCOCCC#N',\n",
       " 'CCCCCCOCCOCCO',\n",
       " 'CCCCOCCCCOC',\n",
       " 'CCCCCCCCCOCC',\n",
       " 'CCCCOCCCC',\n",
       " 'CCCCOCCCCI',\n",
       " 'CCCCCCCCOCC',\n",
       " 'CCCCCCOCCCO',\n",
       " 'CCCCOCCCCCI',\n",
       " 'CCCCCCOCCOC',\n",
       " 'CCCCCOCF',\n",
       " 'CCCCCCCOCCCCl',\n",
       " 'CCCCCOCCCBr',\n",
       " 'CCCCCCCOCOCCC',\n",
       " 'CCCCCOCCCF',\n",
       " 'C#CCCCCCOCCCC',\n",
       " 'CCCCCOCCO',\n",
       " 'CCCCCOCCCCC',\n",
       " 'C#CCCOCCCCCCC',\n",
       " 'CCCCOCCCCCCF',\n",
       " 'CCCCOCCCF',\n",
       " 'CCCCCOCCOC',\n",
       " 'CCCCOCCCCON',\n",
       " 'CCCCCCCCCCCCCCCCOCCCN',\n",
       " 'CCCCOCCBr',\n",
       " 'CCCCOCCCBr',\n",
       " 'CCCCOCCCCCCCCl',\n",
       " 'CCCCCCCOCCI',\n",
       " 'CCCCCCCCCCCCOCCOCCOCCOCCOCCOCCOCCOCCOCCOCCOCCOCCOCCOCCOCCOCCOCCOCCOCCOCCOCCOCCOCCO',\n",
       " 'CCCCOCCCCCCl',\n",
       " 'CCCCOCCF',\n",
       " 'CCCCCOCCCCBr',\n",
       " 'CCCCCCCOCCC',\n",
       " 'CCCCOCCCCF',\n",
       " 'CCCCCCOCCI',\n",
       " 'CCCCCCOCCF',\n",
       " 'CCCCCCOCCOCC',\n",
       " 'CCCCCOCCCOCC',\n",
       " 'CCCCOCCCl',\n",
       " 'CCCCCOCO',\n",
       " 'CCCCOCCCOCC',\n",
       " 'CCCCCCCOCCS',\n",
       " 'CCCCCOCCCCCBr',\n",
       " 'CCCCOCCOCCOCCCC',\n",
       " 'CCCCCCOCCCN',\n",
       " 'CCCCCCOCCCCl',\n",
       " 'CCCCCOCCOCC',\n",
       " 'CCCCCCCOCI',\n",
       " 'BCCCCOCCCC',\n",
       " 'CCCCCCOCCC',\n",
       " 'CCCCCCOCCl',\n",
       " 'CCCCCCOCCCCN',\n",
       " 'CCCCCOCCOCCC',\n",
       " 'CCCCCOCCCON',\n",
       " 'CCCCCCCOCCN',\n",
       " 'CCCCCOCCCI',\n",
       " 'CCCCCCCCCCCCOCCO',\n",
       " 'CCCCCOCCCN',\n",
       " 'CCCCCOCC',\n",
       " 'CCCCCCOCBr',\n",
       " 'CCCCOCCCCOCC',\n",
       " 'CCCCCOCCC',\n",
       " 'CCCCOCC',\n",
       " 'CCCCOCCCI',\n",
       " 'CCCCOCCCS',\n",
       " 'CCCCCOCCCS',\n",
       " 'CCCCCOCCCCI',\n",
       " 'CCCCCCCCOCCCN',\n",
       " 'CCCCCOCCCCCl',\n",
       " 'CCCCOCCI',\n",
       " 'CCCCCOCCl',\n",
       " 'CCCCOCCCCCCN',\n",
       " 'CCCCOCCCCCN',\n",
       " 'BCCCOCCCCC',\n",
       " 'CCCCCCOCF',\n",
       " 'CCCCCCCOCCCI',\n",
       " 'CCCCCCOCCCCCl',\n",
       " 'CCCCOCCCCCO',\n",
       " 'CCCCCCOCOCC',\n",
       " 'CCCCCCOCCN',\n",
       " 'CCCCCOCOCCC',\n",
       " 'CCCCOCCCCOO',\n",
       " 'CCCCOCCCCCS']"
      ]
     },
     "execution_count": 2,
     "metadata": {},
     "output_type": "execute_result"
    }
   ],
   "source": [
    "from chemsampler.sampler import ChemSampler\n",
    "from chemsampler import example\n",
    "smiles_list = example()\n",
    "smp = ChemSampler()\n",
    "smp.sample(smiles_list, 100, 60)"
   ]
  },
  {
   "cell_type": "code",
   "execution_count": 5,
   "metadata": {},
   "outputs": [
    {
     "data": {
      "text/plain": [
       "True"
      ]
     },
     "execution_count": 5,
     "metadata": {},
     "output_type": "execute_result"
    }
   ],
   "source": [
    "ChemSampler == ChemSampler"
   ]
  },
  {
   "cell_type": "code",
   "execution_count": null,
   "metadata": {},
   "outputs": [],
   "source": []
  }
 ],
 "metadata": {
  "kernelspec": {
   "display_name": "Python 3.7.12 ('chemsampler')",
   "language": "python",
   "name": "python3"
  },
  "language_info": {
   "codemirror_mode": {
    "name": "ipython",
    "version": 3
   },
   "file_extension": ".py",
   "mimetype": "text/x-python",
   "name": "python",
   "nbconvert_exporter": "python",
   "pygments_lexer": "ipython3",
   "version": "3.7.12"
  },
  "orig_nbformat": 4,
  "vscode": {
   "interpreter": {
    "hash": "05e9f8ded7778d4f312f0b31051aba959a73629d2774bb51afd5c0dbfbfe0545"
   }
  }
 },
 "nbformat": 4,
 "nbformat_minor": 2
}
